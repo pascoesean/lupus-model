{
 "cells": [
  {
   "cell_type": "code",
   "execution_count": 3,
   "metadata": {},
   "outputs": [],
   "source": [
    "import numpy as np\n",
    "from scipy.integrate import odeint"
   ]
  },
  {
   "cell_type": "code",
   "execution_count": 4,
   "metadata": {},
   "outputs": [
    {
     "ename": "NameError",
     "evalue": "name 'srange' is not defined",
     "output_type": "error",
     "traceback": [
      "\u001b[1;31m---------------------------------------------------------------------------\u001b[0m",
      "\u001b[1;31mNameError\u001b[0m                                 Traceback (most recent call last)",
      "Cell \u001b[1;32mIn[4], line 29\u001b[0m\n\u001b[0;32m     24\u001b[0m (si, sid, kid, kip, kpi, kpp, kpd, mup, \n\u001b[0;32m     25\u001b[0m  kdip, kdp, mud, sa, kap, kad, mua, Ainf) \u001b[38;5;241m=\u001b[39m (\u001b[38;5;241m0.002\u001b[39m, \u001b[38;5;241m0.015\u001b[39m, \u001b[38;5;241m1\u001b[39m, \u001b[38;5;241m0.025\u001b[39m, \u001b[38;5;241m0.13\u001b[39m, \u001b[38;5;241m0.02\u001b[39m, \u001b[38;5;241m0.001\u001b[39m, \u001b[38;5;241m0.06\u001b[39m, \n\u001b[0;32m     26\u001b[0m                                                \u001b[38;5;241m0.025\u001b[39m, \u001b[38;5;241m0.27\u001b[39m, \u001b[38;5;241m0.04\u001b[39m, \u001b[38;5;241m0.05\u001b[39m, \u001b[38;5;241m0.022\u001b[39m, \u001b[38;5;241m0.22\u001b[39m, \u001b[38;5;241m2.2\u001b[39m, \u001b[38;5;241m0.45\u001b[39m)\n\u001b[0;32m     28\u001b[0m tmax\u001b[38;5;241m=\u001b[39m\u001b[38;5;241m600\u001b[39m\n\u001b[1;32m---> 29\u001b[0m t_range \u001b[38;5;241m=\u001b[39m srange(\u001b[38;5;241m0\u001b[39m, tmax, \u001b[38;5;241m1\u001b[39m)\n\u001b[0;32m     31\u001b[0m \u001b[38;5;66;03m# Helper functions\u001b[39;00m\n\u001b[0;32m     32\u001b[0m \u001b[38;5;28;01mdef\u001b[39;00m \u001b[38;5;21msa_func\u001b[39m(t):\n",
      "\u001b[1;31mNameError\u001b[0m: name 'srange' is not defined"
     ]
    }
   ],
   "source": [
    "# Define Variables and parameters\n",
    "def lupus_periodic_flare(init = (0.1, 0.4, 1.7, 0.1), # tuple: (I0, P0, D0, A0)\n",
    "                         tmax=600, # number of days to simulate\n",
    "                         sep = 45, # num of days in between flares\n",
    "                         flare_length = 10, # num of days a flare lasts\n",
    "                         si = 0.002, # base rate that immune complexes deposit in the kidneys\n",
    "                         sid = 0.015, # base immune response to accumulation of damaged cells\n",
    "                         kid = 1,\n",
    "                         kip = 0.025, #rate of immune complex removal from system\n",
    "                         kpi = 0.13, #rate of mediator activation and recruitment\n",
    "                         kpp = 0.02, #immune response amplified by existing inflammatory response (kpi)\n",
    "                         kpd = 0.001, #rate of activation for pro-inflammatory agents as a result of cytokine release or induced by damaged tissue\n",
    "                         mup = 0.06, #decay of pro-inflammatory mediators\n",
    "                         kdip = 0.025, #rate of phagocytosis of immune complexes by immune cells\n",
    "                         kdp = 0.27, #rate at which collateral damage is produced by pro-inflammatory mediators \n",
    "                         mud = 0.04, #decay rate of damage\n",
    "                         sa = 0.05, #addition of anti-inflammatory drugs\n",
    "                         kap = 0.022, #intrarenal production of anti-inflammatory mediators\n",
    "                         kad = 0.22, #intrarenal rate of tissue damage ??\n",
    "                         mua = 2.2, #rate of anti-inflammatory agent degradation\n",
    "                         Ainf = 1\n",
    "                        ):\n",
    "\n",
    "    t_range = srange(0, tmax, 1)\n",
    "\n",
    "    def fsid_t(t): #time dependency Sid\n",
    "        sid = 0.002\n",
    "        if numpy.mod(t,sep) <= flare_length : #gives the higher value for ~two weeks of time based on data\n",
    "            sid = sid*5\n",
    "        else:\n",
    "            sid = 0.002\n",
    "        return sid \n",
    "\n",
    "    def fsi_t(t): #time dependency Si\n",
    "        si = 0.001\n",
    "        if numpy.mod(t,sep) <= flare_length : \n",
    "            si = si*5\n",
    "        else:\n",
    "            si = 0.001\n",
    "        return si\n",
    "    \n",
    "    def fsa_t(t):\n",
    "        saf = 3*sa\n",
    "        return saf if t >=changeday and t<=changeday + flare_length else sa\n",
    "\n",
    "    def systems (IPDA, t, sa_t, si_t,sid_t, kip_t, kpp_t, kpi_t, kpd_t, kdip_t,kdp_t, kap_t,kad_t,mup_t,mua_t,mud_t,kid_t,Ainf_t):\n",
    "        I, P, D, A = IPDA \n",
    "        \n",
    "        def f(x):\n",
    "            return x/((1+A/Ainf)^2) \n",
    "\n",
    "        Idot = f(si_t(t)) + f(sid_t(t))*(D^2/(kid_t^2 + D^2)) - kip_t*f(P)*I\n",
    "        Pdot = f(kpi_t*I + kpp_t*P) + f(kpd_t*D) - mup_t*P\n",
    "        Ddot = kdip_t*f(P)*I + kdp_t*f(P) - mud_t*D\n",
    "        Adot = fsa_t(t) + f(kap_t*P + kad_t*D) - mua_t*A\n",
    "\n",
    "        LupusSystem = (Idot, Pdot, Ddot, Adot)\n",
    "        return LupusSystem\n",
    "\n",
    "    IPDAsim = odeint(systems, init, t_range, args=(fsa_t, fsi_t, fsid_t, kip, kpp, kpi, kpd, kdip,kdp, kap,kad,mup,mua,mud,kid, Ainf))\n",
    "    IPDAsim = np.insert(IPDAsim, 0, t_range, axis=1)\n",
    "\n",
    "    return IPDAsim\n",
    "\n",
    "def plot_ts4(sim, title = \"\"):\n",
    "    Its = list_plot(sim[::,(0,1)], plotjoined=True, color=\"grey\", legend_label=\"I\")\n",
    "    Pts = list_plot(sim[::,(0,2)], plotjoined=True, color=\"blue\", legend_label=\"P\")\n",
    "    Dts = list_plot(sim[::,(0,3)], plotjoined=True, color=\"red\", legend_label=\"D\")\n",
    "    Ats = list_plot(sim[::,(0,4)], plotjoined=True, color=\"purple\", legend_label=\"A\", title = title)\n",
    "    return Its+Pts+Dts+Ats\n",
    "\n",
    "plot_ts4(lupus_periodic_flare(), title = \"Periodic Flare\")"
   ]
  }
 ],
 "metadata": {
  "kernelspec": {
   "display_name": "base",
   "language": "python",
   "name": "python3"
  },
  "language_info": {
   "codemirror_mode": {
    "name": "ipython",
    "version": 3
   },
   "file_extension": ".py",
   "mimetype": "text/x-python",
   "name": "python",
   "nbconvert_exporter": "python",
   "pygments_lexer": "ipython3",
   "version": "3.11.7"
  }
 },
 "nbformat": 4,
 "nbformat_minor": 2
}
