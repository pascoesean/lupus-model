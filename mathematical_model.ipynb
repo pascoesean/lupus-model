{
 "cells": [
  {
   "cell_type": "markdown",
   "id": "623e067d-5665-4a2c-849c-48f4e23b71ff",
   "metadata": {},
   "source": [
    "## Model of Lupus Nephritis\n",
    "#### see paper: [here](https://tbiomed.biomedcentral.com/articles/10.1186/1742-4682-7-14)"
   ]
  },
  {
   "cell_type": "code",
   "execution_count": null,
   "id": "3d648333",
   "metadata": {},
   "outputs": [],
   "source": [
    "import numpy as np"
   ]
  },
  {
   "cell_type": "code",
   "execution_count": 2,
   "id": "91e4d585-44b6-4acd-89a0-d891510f1cb4",
   "metadata": {},
   "outputs": [
    {
     "name": "stdout",
     "output_type": "stream",
     "text": [
      "1\n",
      "2\n",
      "3\n",
      "4\n",
      "5\n"
     ]
    }
   ],
   "source": [
    "import numpy\n",
    "# Define Variables and parameters\n",
    "Lupusvars = list(var(\"I\", \"P\", \"D\", \"A\"))\n",
    "\n",
    "si = 0.002 #rate that immune complexes deposit in the kidneys\n",
    "sid = 0.015 #immune response to accumulation of damaged cells\n",
    "kid = 1\n",
    "kip = 0.025 #rate of immune complex removal from system\n",
    "kpi = 0.13 #rate of mediator activation and recruitment\n",
    "kpp = 0.02 #immune response amplified by existing inflammatory response (kpi)\n",
    "kpd = 0.001 #rate of activation for pro-inflammatory agents as a result of cytokine release or induced by damaged tissue\n",
    "mup = 0.06 #decay of pro-inflammatory mediators\n",
    "kdip = 0.025 #rate of phagocytosis of immune complexes by immune cells\n",
    "kdp = 0.27 #rate at which collateral damage is produced by pro-inflammatory mediators \n",
    "mud = 0.04 #decay rate of damage\n",
    "sa = 0.05 #addition of anti-inflammatory drugs\n",
    "kap = 0.022 #intrarenal production of anti-inflammatory mediators\n",
    "kad = 0.22 #intrarenal rate of tissue damage ??\n",
    "mua = 2.2 #rate of anti-inflammatory agent degradation\n",
    "Ainf = 0.45\n",
    "\n",
    "(xmin, xmax, ymin, ymax) = (0, 1, 0, 4)\n",
    "\n",
    "def f(x):\n",
    "    return x/((1+A/Ainf)^2)\n",
    "\n",
    "Idot = f(si) + f(sid)*(D^2/(kid^2 + D^2)) - kip*f(P)*I\n",
    "Pdot = f(kpi*I + kpp*P) + f(kpd*D) - mup*P\n",
    "Ddot = kdip*f(P)*I + kdp*f(P) - mud*D\n",
    "Adot = sa + f(kap*P + kad*D) - mua*A\n",
    "\n",
    "LupusSystem = (Idot, Pdot, Ddot, Adot)\n",
    "init = (0.1, 0.4, 1.7, 0.1)\n",
    "\n",
    "tmax=500\n",
    "t_range = srange(0, tmax, 1)\n",
    "\n",
    "LupusSim = desolve_odeint(LupusSystem, init, t_range, Lupusvars)\n",
    "LupusSim = numpy.insert(LupusSim, 0, t_range, axis=1)\n",
    "Its = list_plot(LupusSim[::,(0,1)], plotjoined=True, color=\"grey\", legend_label=\"I\")\n",
    "Pts = list_plot(LupusSim[::,(0,2)], plotjoined=True, color=\"blue\", legend_label=\"P\")\n",
    "Dts = list_plot(LupusSim[::,(0,3)], plotjoined=True, color=\"red\", legend_label=\"D\")\n",
    "Ats = list_plot(LupusSim[::,(0,4)], plotjoined=True, color=\"black\", legend_label=\"A\")\n",
    "show(Its+Pts+Dts+Ats, title = \"Lupus\", ymax = ymax)"
   ]
  }
 ],
 "metadata": {
  "kernelspec": {
   "display_name": "SageMath 10.3",
   "language": "sage",
   "name": "sagemath-10.3"
  },
  "language_info": {
   "codemirror_mode": {
    "name": "ipython",
    "version": 3
   },
   "file_extension": ".py",
   "mimetype": "text/x-python",
   "name": "python",
   "nbconvert_exporter": "python",
   "pygments_lexer": "ipython3",
   "version": "3.11.1"
  }
 },
 "nbformat": 4,
 "nbformat_minor": 5
}
