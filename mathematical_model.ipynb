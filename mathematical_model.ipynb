{
 "cells": [
  {
   "cell_type": "markdown",
   "id": "623e067d-5665-4a2c-849c-48f4e23b71ff",
   "metadata": {},
   "source": [
    "## Model of Lupus Nephritis\n",
    "#### see paper: [here](https://tbiomed.biomedcentral.com/articles/10.1186/1742-4682-7-14)"
   ]
  },
  {
   "cell_type": "code",
   "execution_count": null,
   "id": "3d648333",
   "metadata": {},
   "outputs": [],
   "source": [
    "import numpy as np"
   ]
  },
  {
   "cell_type": "code",
   "execution_count": 2,
   "id": "91e4d585-44b6-4acd-89a0-d891510f1cb4",
   "metadata": {},
   "outputs": [
    {
     "name": "stdout",
     "output_type": "stream",
     "text": [
      "1\n",
      "2\n",
      "3\n",
      "4\n",
      "5\n"
     ]
    }
   ],
   "source": [
    "\n",
    "# Define Variables and parameters\n",
    "Lupusvars = list(var(\"I\", \"A\", \"P\", \"D\"))\n",
    "sa = 0.05\n",
    "si = 0.001 #rate that immune complexes deposit in the kidneys\n",
    "sid = 0.002 #immune response to accumulation of damaged cells\n",
    "kip = 1 # rate of immune complex removal from system\n",
    "kpp = 0.02 \n",
    "kpi = 0.13 #rate of mediator activation and recruitment\n",
    "kpd = 0.001 #rate of activation for pro-inflammatory agents as a result of cytokine release or induced by damaged tissue\n",
    "kdip = 0.025\n",
    "kdp = 0.27\n",
    "kap = 0.022 #level of inflammation???\n",
    "kad = 0.22 #level of damage???\n",
    "mup = 0.06 #decay of pro-inflammatory mediators\n",
    "mua = 2.2 #rate of anti-inflammatory agent degradation\n",
    "mud = 0.04 #decay rate of damage\n",
    "kid = 1\n",
    "Ainf = 0.45\n",
    "\n",
    "(xmin, xmax, ymin, ymax) = (0, 1, 0, 10000)\n",
    "\n",
    "def f(x):\n",
    "    return x/((1+A/Ainf)^2)\n",
    "\n",
    "Idot = f(si) + f(sid)*(D^2/(kid^2 + D^2)) - kip*f(P)*I\n",
    "Pdot = f(kpi*I + kpp*P) + f(kpd*D) - mup*P\n",
    "Ddot = kdip*f(P)*I + kdp*f(P) - mud*D\n",
    "Adot = sa + f(kap*P + kad*D) - mua*A\n",
    "\n",
    "LupusSystem = (Idot, Pdot, Ddot, Adot)\n",
    "init = (0.1, 0.4, 1.7, 0.1)\n",
    "\n",
    "tmax=60\n",
    "t_range = srange(0, tmax, 1)\n",
    "\n",
    "LupusSim = desolve_odeint(LupusSystem, init, t_range, Lupusvars)\n",
    "LupusSim = np.insert(LupusSim, 0, t_range, axis=1)\n",
    "Its = list_plot(LupusSim[::,(0,1)], plotjoined=True, color=\"grey\", legend_label=\"I\")\n",
    "Pts = list_plot(LupusSim[::,(0,2)], plotjoined=True, color=\"blue\", legend_label=\"P\")\n",
    "Dts = list_plot(LupusSim[::,(0,3)], plotjoined=True, color=\"red\", legend_label=\"D\")\n",
    "Ats = list_plot(LupusSim[::,(0,4)], plotjoined=True, color=\"black\", legend_label=\"A\")\n",
    "show(Its+Pts+Dts+Ats, title = \"Lupus\", ymax = ymax)"
   ]
  }
 ],
 "metadata": {
  "kernelspec": {
   "display_name": "SageMath 10.3",
   "language": "sage",
   "name": "sagemath-10.3"
  },
  "language_info": {
   "codemirror_mode": {
    "name": "ipython",
    "version": 3
   },
   "file_extension": ".py",
   "mimetype": "text/x-python",
   "name": "python",
   "nbconvert_exporter": "python",
   "pygments_lexer": "ipython3",
   "version": "3.11.1"
  }
 },
 "nbformat": 4,
 "nbformat_minor": 5
}
