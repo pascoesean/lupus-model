{
 "cells": [
  {
   "cell_type": "markdown",
   "metadata": {
    "collapsed": false,
    "jupyter": {
     "outputs_hidden": false
    }
   },
   "source": [
    "## Model of Lupus Nephritis\n",
    "#### see paper: [here](https://tbiomed.biomedcentral.com/articles/10.1186/1742-4682-7-14)"
   ]
  },
  {
   "cell_type": "code",
   "execution_count": 1,
   "metadata": {
    "collapsed": false,
    "jupyter": {
     "outputs_hidden": false
    }
   },
   "outputs": [],
   "source": [
    "import numpy as np\n",
    "import random\n",
    "from scipy.integrate import odeint"
   ]
  },
  {
   "cell_type": "code",
   "execution_count": 2,
   "metadata": {
    "collapsed": false,
    "jupyter": {
     "outputs_hidden": false
    }
   },
   "outputs": [],
   "source": [
    "\n",
    "# Define Variables and parameters\n",
    "Lupusvars = list(var(\"I\", \"P\", \"D\", \"A\"))\n",
    "sa = 0.05\n",
    "si = 0.001 #rate that immune complexes deposit in the kidneys\n",
    "sid = 0.002 #immune response to accumulation of damaged cells\n",
    "kip = 1 # rate of immune complex removal from system\n",
    "kpp = 0.02 \n",
    "kpi = 0.13 #rate of mediator activation and recruitment\n",
    "kpd = 0.001 #rate of activation for pro-inflammatory agents as a result of cytokine release or induced by damaged tissue\n",
    "kdip = 0.025\n",
    "kdp = 0.27\n",
    "kap = 0.022 #level of inflammation???\n",
    "kad = 0.22 #level of damage???\n",
    "mup = 0.06 #decay of pro-inflammatory mediators\n",
    "mua = 2.2 #rate of anti-inflammatory agent degradation\n",
    "mud = 0.04 #decay rate of damage\n",
    "kid = 1\n",
    "Ainf = 0.45\n",
    "\n",
    "(xmin, xmax, ymin, ymax) = (0, 1, 0, 3)\n",
    "\n",
    "\n",
    "\n",
    "tmax=60*10\n",
    "t_range = srange(0, tmax, 1)\n",
    "init = (0.1, 0.4, 1.7, 0.1)\n",
    "changeday = 180\n",
    "\n",
    "def fsid_t(t): #time dependency Sid\n",
    "    sid = 0.002\n",
    "    if 0 <= t%changeday <= .08: #gives the higher value for ~two weeks of time based on data\n",
    "        sid = sid*3\n",
    "    else:\n",
    "        sid = 0.002\n",
    "    return sid \n",
    "\n",
    "def fsi_t(t): #time dependcy Si\n",
    "    si = 0.001\n",
    "    if 0 <= t%changeday <= .08: #gives higher value for ~2 weeks of time\n",
    "        si = si*5\n",
    "    else:\n",
    "        si = 0.001\n",
    "    return si\n",
    "\n",
    "def systems (IPDA, t, sa_t, si_t,sid_t, kip_t, kpp_t, kpi_t, kpd_t, kdip_t,kdp_t, kap_t,kad_t,mup_t,mua_t,mud_t,kid_t, Ainf_t ):\n",
    "    I, P, D, A = IPDA \n",
    "    def f(x):\n",
    "        return x/((1+A/Ainf)^2) \n",
    "\n",
    "    Idot = f(si_t(t)) + f(sid_t(t))*(D^2/(kid_t^2 + D^2)) - kip_t*f(P)*I\n",
    "    Pdot = f(kpi_t*I + kpp_t*P) + f(kpd_t*D) - mup_t*P\n",
    "    Ddot = kdip_t*f(P)*I + kdp_t*f(P) - mud_t*D\n",
    "    Adot = sa_t + f(kap_t*P + kad_t*D) - mua_t*A\n",
    "\n",
    "    LupusSystem = (Idot, Pdot, Ddot, Adot)\n",
    "    return LupusSystem\n",
    "\n",
    "\n",
    "\n",
    "IPDAsim = odeint(systems, init, t_range, args=(sa, fsi_t, fsid_t, kip, kpp, kpi, kpd, kdip,kdp, kap,kad,mup,mua,mud,kid, Ainf))\n",
    "\n",
    "\n",
    "#LupusSim = odeint(systems, init, t_range, Lupusvars)\n",
    "#LupusSim = np.insert(LupusSim, 0, t_range, axis=1)\n",
    "#Its = list_plot(LupusSim[::,(0,1)], plotjoined=True, color=\"grey\", legend_label=\"I\")\n",
    "#Pts = list_plot(LupusSim[::,(0,2)], plotjoined=True, color=\"blue\", legend_label=\"P\")\n",
    "#Dts = list_plot(LupusSim[::,(0,3)], plotjoined=True, color=\"red\", legend_label=\"D\")\n",
    "#Ats = list_plot(LupusSim[::,(0,4)], plotjoined=True, color=\"black\", legend_label=\"A\")\n",
    "#show(Its+Pts+Dts+Ats, title = \"Lupus\", ymax = ymax)"
   ]
  },
  {
   "cell_type": "code",
   "execution_count": 3,
   "metadata": {
    "collapsed": false,
    "jupyter": {
     "outputs_hidden": false
    }
   },
   "outputs": [],
   "source": [
    "def plot_ts4(SIRsim, times=t_range):\n",
    "    totpop = np.sum(SIRsim,axis=1).tolist() # this is a bug\n",
    "    SIRsim = np.insert(SIRsim, 0, totpop, axis=1)\n",
    "    SIRsim = np.insert(SIRsim, 0, times, axis=1)\n",
    "    Its = list_plot(SIRsim[::,(0,1)], plotjoined=True, color=\"grey\", legend_label=\"I\")\n",
    "    Pts = list_plot(SIRsim[::,(0,2)], plotjoined=True, color=\"blue\", legend_label=\"P\")\n",
    "    Dts = list_plot(SIRsim[::,(0,3)], plotjoined=True, color=\"red\", legend_label=\"D\")\n",
    "    Ats = list_plot(SIRsim[::,(0,4)], plotjoined=True, color=\"purple\", legend_label=\"A\")\n",
    "    return Its+Pts+Dts+Ats"
   ]
  },
  {
   "cell_type": "code",
   "execution_count": 4,
   "metadata": {
    "collapsed": false,
    "jupyter": {
     "outputs_hidden": false
    }
   },
   "outputs": [
    {
     "data": {
      "image/png": "[encoded data removed]",
      "text/plain": [
       "Graphics object consisting of 4 graphics primitives"
      ]
     },
     "metadata": {},
     "output_type": "display_data"
    }
   ],
   "source": [
    "show(plot_ts4(IPDAsim))"
   ]
  },
  {
   "cell_type": "code",
   "execution_count": null,
   "metadata": {},
   "outputs": [],
   "source": []
  }
 ],
 "metadata": {
  "kernelspec": {
   "display_name": "SageMath 10.3",
   "language": "sage",
   "name": "sagemath-10.3"
  },
  "language_info": {
   "codemirror_mode": {
    "name": "ipython",
    "version": 3
   },
   "file_extension": ".py",
   "mimetype": "text/x-python",
   "name": "python",
   "nbconvert_exporter": "python",
   "pygments_lexer": "ipython3",
   "version": "3.11.1"
  }
 },
 "nbformat": 4,
 "nbformat_minor": 4
}
